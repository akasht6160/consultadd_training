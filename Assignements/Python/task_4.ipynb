{
 "cells": [
  {
   "cell_type": "code",
   "execution_count": 4,
   "id": "1f122eeb",
   "metadata": {},
   "outputs": [
    {
     "name": "stdout",
     "output_type": "stream",
     "text": [
      "dcba4321\n"
     ]
    }
   ],
   "source": [
    "# 1\n",
    "\n",
    "def rev_string(str):\n",
    "    return str[::-1]\n",
    "\n",
    "        \n",
    "str = \"1234abcd\"\n",
    "print(rev_string(str))"
   ]
  },
  {
   "cell_type": "code",
   "execution_count": 12,
   "id": "8986ef44",
   "metadata": {},
   "outputs": [
    {
     "name": "stdout",
     "output_type": "stream",
     "text": [
      "No. of Uppercase characters : 3 No. of Lower case Characters : 11\n"
     ]
    }
   ],
   "source": [
    "# 2\n",
    "\n",
    "def count_cases(str):\n",
    "    upper = 0\n",
    "    lower = 0\n",
    "    \n",
    "    for char in str:\n",
    "        if char.isupper():\n",
    "            upper += 1\n",
    "        elif char.islower():\n",
    "            lower += 1\n",
    "        else:\n",
    "            pass\n",
    "        \n",
    "    print(f\"No. of Uppercase characters : {upper} No. of Lower case Characters : {lower}\")\n",
    "        \n",
    "\n",
    "str1 = \"abcSdefPghijQk\"\n",
    "count_cases(str1)"
   ]
  },
  {
   "cell_type": "code",
   "execution_count": 16,
   "id": "d8f1aeea",
   "metadata": {},
   "outputs": [
    {
     "name": "stdout",
     "output_type": "stream",
     "text": [
      "[1, 1, 2, 2, 3, 3, 4, 4, 5, 5, 6, 6, 7, 7, 8, 8, 9, 9]\n",
      "[1, 2, 3, 4, 5, 6, 7, 8, 9]\n"
     ]
    }
   ],
   "source": [
    "# 3\n",
    "\n",
    "def find_unique(my_list):\n",
    "    new_list = []\n",
    "    for elem in my_list:\n",
    "        if elem not in new_list:\n",
    "            new_list.append(elem)\n",
    "            \n",
    "    return new_list\n",
    "    \n",
    "\n",
    "list1 = [1,1,2,2,3,3,4,4,5,5,6,6,7,7,8,8,9,9]\n",
    "list2 = find_unique(list1)\n",
    "\n",
    "print(list1)\n",
    "print(list2)"
   ]
  },
  {
   "cell_type": "code",
   "execution_count": 21,
   "id": "97cf4c68",
   "metadata": {},
   "outputs": [
    {
     "name": "stdout",
     "output_type": "stream",
     "text": [
      "Jungle-To-Welcome\n"
     ]
    }
   ],
   "source": [
    "# 4\n",
    "\n",
    "str = \"Welcome-To-Jungle\"\n",
    "\n",
    "words = [n for n in str.split('-')]\n",
    "words.sort()\n",
    "print('-'.join(words))"
   ]
  },
  {
   "cell_type": "code",
   "execution_count": 26,
   "id": "705de810",
   "metadata": {},
   "outputs": [
    {
     "name": "stdout",
     "output_type": "stream",
     "text": [
      "Consultadd\n",
      "welcome to python programming\n",
      "\n",
      "CONSULTADD\n",
      "WELCOME TO PYTHON PROGRAMMING\n"
     ]
    }
   ],
   "source": [
    "# 5\n",
    "\n",
    "final_list = []\n",
    "\n",
    "while True:\n",
    "    line = input()\n",
    "    if line:\n",
    "        final_list.append(line.upper())\n",
    "    else:\n",
    "        break\n",
    "        \n",
    "for item in final_list:\n",
    "    print(item)\n"
   ]
  },
  {
   "cell_type": "code",
   "execution_count": 27,
   "id": "3f5d0c51",
   "metadata": {},
   "outputs": [
    {
     "name": "stdout",
     "output_type": "stream",
     "text": [
      "enter number 1: 12\n",
      "enter number 2: 15\n",
      "27\n"
     ]
    }
   ],
   "source": [
    "# 6\n",
    "\n",
    "def do_sum():\n",
    "    str_1 = input(\"enter number 1: \")\n",
    "    str_2 = input(\"enter number 2: \")\n",
    "    \n",
    "    return (int(str_1) + int(str_2))\n",
    "\n",
    "\n",
    "print(do_sum())"
   ]
  },
  {
   "cell_type": "code",
   "execution_count": 31,
   "id": "145c0696",
   "metadata": {},
   "outputs": [
    {
     "name": "stdout",
     "output_type": "stream",
     "text": [
      "Enter first string: short string\n",
      "Enter second string: really really long string\n",
      "really really long string\n"
     ]
    }
   ],
   "source": [
    "# 7\n",
    "\n",
    "def print_max_string():\n",
    "    first_str = input(\"Enter first string: \")\n",
    "    second_str = input(\"Enter second string: \")\n",
    "    \n",
    "    if len(first_str) > len(second_str):\n",
    "        print(first_str)\n",
    "    elif len(first_str) < len(second_str):\n",
    "        print(second_str)\n",
    "    else:\n",
    "        print(first_str)\n",
    "        print(second_str)\n",
    "        \n",
    "\n",
    "print_max_string()\n"
   ]
  },
  {
   "cell_type": "code",
   "execution_count": 32,
   "id": "6ca392a8",
   "metadata": {},
   "outputs": [
    {
     "name": "stdout",
     "output_type": "stream",
     "text": [
      "(1, 4, 9, 16, 25, 36, 49, 64, 81, 100, 121, 144, 169, 196, 225, 256, 289, 324, 361, 400)\n"
     ]
    }
   ],
   "source": [
    "# 8\n",
    "\n",
    "def generate_tuple():\n",
    "    my_list = []\n",
    "    for i in range(1, 21):\n",
    "        my_list.append(i*i)\n",
    "    \n",
    "    return tuple(my_list)\n",
    "\n",
    "\n",
    "print(generate_tuple())"
   ]
  },
  {
   "cell_type": "code",
   "execution_count": 34,
   "id": "e055d679",
   "metadata": {},
   "outputs": [
    {
     "name": "stdout",
     "output_type": "stream",
     "text": [
      "0 EVEN\n",
      "1 ODD\n",
      "2 EVEN\n",
      "3 ODD\n"
     ]
    }
   ],
   "source": [
    "# 9\n",
    "\n",
    "def num_with_label(limit):\n",
    "    for num in range(0, limit + 1):\n",
    "        if num % 2 == 0:\n",
    "            print(f\"{num} EVEN\")\n",
    "        elif num % 2 != 0:\n",
    "            print(f\"{num} ODD\")\n",
    "        \n",
    "\n",
    "num_with_label(3)\n"
   ]
  },
  {
   "cell_type": "code",
   "execution_count": 45,
   "id": "1acaa5e3",
   "metadata": {
    "scrolled": true
   },
   "outputs": [
    {
     "name": "stdout",
     "output_type": "stream",
     "text": [
      "[0, 2, 4, 6, 8, 10, 12, 14, 16, 18, 20]\n"
     ]
    }
   ],
   "source": [
    "# 10\n",
    "list1 = []\n",
    "for i in range(0, 21):\n",
    "    list1.append(i)\n",
    "    \n",
    "is_even = lambda x : x % 2 == 0\n",
    "\n",
    "list2 = list(filter(is_even, list1))\n",
    "print(list2)"
   ]
  },
  {
   "cell_type": "code",
   "execution_count": 47,
   "id": "b3e3f978",
   "metadata": {},
   "outputs": [
    {
     "name": "stdout",
     "output_type": "stream",
     "text": [
      "[4, 16, 36, 64, 100]\n"
     ]
    }
   ],
   "source": [
    "# 11\n",
    "\n",
    "given_list = [1,2,3,4,5,6,7,8,9,10]\n",
    "\n",
    "even_squared_list = map(lambda x : x**2, filter(lambda x : x % 2 == 0, given_list))\n",
    "print(list(even_squared_list))"
   ]
  },
  {
   "cell_type": "code",
   "execution_count": 48,
   "id": "78306515",
   "metadata": {},
   "outputs": [
    {
     "name": "stdout",
     "output_type": "stream",
     "text": [
      "Can not divide by Zero\n"
     ]
    }
   ],
   "source": [
    "# 12\n",
    "try:\n",
    "    5 / 0\n",
    "except ZeroDivisionError:\n",
    "    print(\"Can not divide by Zero\")\n"
   ]
  },
  {
   "cell_type": "code",
   "execution_count": 11,
   "id": "a593ceb4",
   "metadata": {},
   "outputs": [
    {
     "name": "stdout",
     "output_type": "stream",
     "text": [
      "1234567\n"
     ]
    }
   ],
   "source": [
    "# 13\n",
    "\n",
    "from functools import reduce\n",
    "\n",
    "my_list = [1,2,3,4,5,6,7]\n",
    "\n",
    "def format_value(a, b): return f\"{a}{b}\"\n",
    "\n",
    "\n",
    "print(reduce(format_value, my_list))\n"
   ]
  },
  {
   "cell_type": "code",
   "execution_count": null,
   "id": "ba88cc62",
   "metadata": {},
   "outputs": [],
   "source": [
    "# 14\n",
    "\n",
    "\n",
    "    "
   ]
  },
  {
   "cell_type": "code",
   "execution_count": 14,
   "id": "d79858d2",
   "metadata": {},
   "outputs": [
    {
     "name": "stdout",
     "output_type": "stream",
     "text": [
      "[1, 4, 9, 16, 25, 36, 49]\n"
     ]
    }
   ],
   "source": [
    "# 15\n",
    "\n",
    "def multiply_elem(elem):\n",
    "    return elem * elem\n",
    "\n",
    "my_list = [1,2,3,4,5,6,7]\n",
    "\n",
    "answer = map(multiply_elem, my_list)\n",
    "print(list(answer))"
   ]
  },
  {
   "cell_type": "code",
   "execution_count": 16,
   "id": "4582405f",
   "metadata": {},
   "outputs": [],
   "source": [
    "# 16\n",
    "\n",
    "# first answer = 2\n",
    "\n",
    "# second anser = NameError: name 'f' is not defined\n"
   ]
  },
  {
   "cell_type": "code",
   "execution_count": null,
   "id": "69203b47",
   "metadata": {},
   "outputs": [],
   "source": [
    "# END OF TASK_4"
   ]
  }
 ],
 "metadata": {
  "kernelspec": {
   "display_name": "Python 3 (ipykernel)",
   "language": "python",
   "name": "python3"
  },
  "language_info": {
   "codemirror_mode": {
    "name": "ipython",
    "version": 3
   },
   "file_extension": ".py",
   "mimetype": "text/x-python",
   "name": "python",
   "nbconvert_exporter": "python",
   "pygments_lexer": "ipython3",
   "version": "3.10.4"
  }
 },
 "nbformat": 4,
 "nbformat_minor": 5
}
