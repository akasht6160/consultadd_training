{
 "cells": [
  {
   "cell_type": "code",
   "execution_count": 8,
   "id": "a46f7e18",
   "metadata": {},
   "outputs": [],
   "source": [
    "# 1\n",
    "\n",
    "my_list = [1,2,3,'john', 'doe', 3.33, 5.121, 44.332, complex(3, 2), complex(5,9)]\n"
   ]
  },
  {
   "cell_type": "code",
   "execution_count": 12,
   "id": "bb189003",
   "metadata": {},
   "outputs": [
    {
     "name": "stdout",
     "output_type": "stream",
     "text": [
      "[2, 3, 4]\n"
     ]
    }
   ],
   "source": [
    "# 2\n",
    "\n",
    "my_list = [1, 2, 3, 4, 5]\n",
    "print(my_list[1:4])"
   ]
  },
  {
   "cell_type": "code",
   "execution_count": 14,
   "id": "a37cccb7",
   "metadata": {},
   "outputs": [],
   "source": [
    "# 3\n",
    "\n",
    "def do_operations(list):\n",
    "    summ = 0\n",
    "    mult = 1\n",
    "    \n",
    "    for i in list:\n",
    "        summ = summ + i\n",
    "        mult = mult * i\n",
    "        \n",
    "    return (summ, mult)\n"
   ]
  },
  {
   "cell_type": "code",
   "execution_count": 16,
   "id": "aa377f18",
   "metadata": {},
   "outputs": [],
   "source": [
    "# 4\n",
    "\n",
    "list = [1,2,3,4,5,6,7,8,9]\n",
    "\n",
    "largest = max(list)\n",
    "smallest = min(list)\n",
    "\n",
    "print(\"largest = \", largest)\n",
    "print(\"smallest = \", smallest)\n"
   ]
  },
  {
   "cell_type": "code",
   "execution_count": 18,
   "id": "dee19680",
   "metadata": {},
   "outputs": [
    {
     "name": "stdout",
     "output_type": "stream",
     "text": [
      "[1, 2, 3, 4, 5, 6, 7, 8, 9]\n",
      "[2, 4, 6, 8]\n"
     ]
    }
   ],
   "source": [
    "# 5\n",
    "\n",
    "list_1 = [1,2,3,4,5,6,7,8,9]\n",
    "print(list_1)\n",
    "\n",
    "list_1 = [i for i in list_1 if i % 2 == 0]\n",
    "print(list_1)"
   ]
  },
  {
   "cell_type": "code",
   "execution_count": 3,
   "id": "9bfacfff",
   "metadata": {},
   "outputs": [
    {
     "name": "stdout",
     "output_type": "stream",
     "text": [
      "[1, 4, 9, 16, 25]\n",
      "[625, 676, 729, 784, 841]\n"
     ]
    }
   ],
   "source": [
    "# 6\n",
    "\n",
    "my_list = []\n",
    "\n",
    "for i in range(1, 30):\n",
    "    my_list.append(i ** 2)\n",
    "\n",
    "\n",
    "print(my_list[:5])\n",
    "print(my_list[-5:])\n"
   ]
  },
  {
   "cell_type": "code",
   "execution_count": 6,
   "id": "85efbfc3",
   "metadata": {},
   "outputs": [
    {
     "name": "stdout",
     "output_type": "stream",
     "text": [
      "[1, 3, 5, 7, 9, 2, 4, 6, 8]\n"
     ]
    }
   ],
   "source": [
    "# 7\n",
    "def list_replace(list1, list2):\n",
    "    \n",
    "    list1[-1:] = list2\n",
    "    print(list1)\n",
    "    \n",
    "    \n",
    "user_list_1 = [1,3,5,7,9,10]\n",
    "user_list_2 = [2,4,6,8]\n",
    "    \n",
    "list_replace(user_list_1, user_list_2)\n"
   ]
  },
  {
   "cell_type": "code",
   "execution_count": 13,
   "id": "dd3ca00d",
   "metadata": {},
   "outputs": [
    {
     "name": "stdout",
     "output_type": "stream",
     "text": [
      "{1: 10, 2: 20, 3: 30, 4: 40}\n"
     ]
    }
   ],
   "source": [
    "# 8\n",
    "\n",
    "a={1:10, 2:20}\n",
    "b={3:30, 4:40}\n",
    "\n",
    "c = {**a, **b}\n",
    "print(c)"
   ]
  },
  {
   "cell_type": "code",
   "execution_count": 14,
   "id": "1d20222a",
   "metadata": {},
   "outputs": [
    {
     "name": "stdout",
     "output_type": "stream",
     "text": [
      "Enter Number: 5\n",
      "{1: 1, 2: 4, 3: 9, 4: 16, 5: 25}\n"
     ]
    }
   ],
   "source": [
    "# 9\n",
    "\n",
    "def create_dict():\n",
    "    \n",
    "    my_dict = dict()\n",
    "    num = int(input(\"Enter Number: \"))\n",
    "    \n",
    "    for i in range(1, num+1):\n",
    "        my_dict[i] = i*i\n",
    "        \n",
    "    print(my_dict)\n",
    "\n",
    "\n",
    "create_dict()"
   ]
  },
  {
   "cell_type": "code",
   "execution_count": 15,
   "id": "b7970af0",
   "metadata": {},
   "outputs": [
    {
     "name": "stdout",
     "output_type": "stream",
     "text": [
      "Enter comma separted numbers: 12,22,32,42,52,62,92,72\n",
      "['12', '22', '32', '42', '52', '62', '92', '72']\n",
      "('12', '22', '32', '42', '52', '62', '92', '72')\n"
     ]
    }
   ],
   "source": [
    "# 10\n",
    "\n",
    "user_input = input(\"Enter comma separted numbers: \")\n",
    "\n",
    "generated_list = user_input.split(\",\")\n",
    "print(generated_list)\n",
    "\n",
    "generated_tuple = tuple(generated_list)\n",
    "print(generated_tuple)"
   ]
  },
  {
   "cell_type": "code",
   "execution_count": null,
   "id": "88df6f95",
   "metadata": {},
   "outputs": [],
   "source": [
    "# End of Taks - 3"
   ]
  }
 ],
 "metadata": {
  "kernelspec": {
   "display_name": "Python 3 (ipykernel)",
   "language": "python",
   "name": "python3"
  },
  "language_info": {
   "codemirror_mode": {
    "name": "ipython",
    "version": 3
   },
   "file_extension": ".py",
   "mimetype": "text/x-python",
   "name": "python",
   "nbconvert_exporter": "python",
   "pygments_lexer": "ipython3",
   "version": "3.10.4"
  }
 },
 "nbformat": 4,
 "nbformat_minor": 5
}
