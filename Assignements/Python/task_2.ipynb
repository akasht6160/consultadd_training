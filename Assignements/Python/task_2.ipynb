{
 "cells": [
  {
   "cell_type": "code",
   "execution_count": 3,
   "id": "5f960258",
   "metadata": {},
   "outputs": [
    {
     "name": "stdout",
     "output_type": "stream",
     "text": [
      "Consultadd\n",
      "Python Training\n",
      "Consultadd - Python Training\n"
     ]
    }
   ],
   "source": [
    "# 1\n",
    "\n",
    "def check_number(num):\n",
    "    \n",
    "    if num % 3 == 0 and num % 5 == 0:\n",
    "        print(\"Consultadd - Python Training\")\n",
    "    elif num % 3 == 0:\n",
    "        print(\"Consultadd\")\n",
    "    elif num % 5 == 0:\n",
    "        print(\"Python Training\")\n",
    "    else:\n",
    "        pass\n",
    "        \n",
    "\n",
    "check_number(6)\n",
    "check_number(10)\n",
    "check_number(15)\n"
   ]
  },
  {
   "cell_type": "code",
   "execution_count": null,
   "id": "4d79a955",
   "metadata": {},
   "outputs": [],
   "source": [
    "# 2\n",
    "\n",
    "print(\"1-Addition, 2-Substraction, 3-Division, 4-Multiplication, 5-Average\")\n",
    "num1 = int(input(\"Enter num1: \"))\n",
    "num2 = int(input(\"Enter num2: \"))\n",
    "choice = int(input(\"Enter your choice: \"))\n",
    "\n",
    "result = 0\n",
    "\n",
    "if choice == 1:\n",
    "    result = num1 + num2\n",
    "elif choice == 2:\n",
    "    result = num1 - num2\n",
    "elif choice == 3:\n",
    "    result = num1 / num2\n",
    "elif choice == 4:\n",
    "    result = num1 * num2\n",
    "elif choice == 5:\n",
    "    first = int(input(\"Enter first number: \"))\n",
    "    second = int(input(\"Enter second number: \"))\n",
    "    result = (num1 + num2 + first + second) / 4\n",
    "else:\n",
    "    print(\"wrong choice\")\n",
    "\n",
    "print(\"answer:\", result)\n",
    "if result < 0:\n",
    "    print(\"NEGATIVE\")\n"
   ]
  },
  {
   "cell_type": "code",
   "execution_count": null,
   "id": "a3a96095",
   "metadata": {},
   "outputs": [],
   "source": [
    "# 3\n",
    "\n",
    "a = 10\n",
    "b = 20\n",
    "c = 30\n",
    "\n",
    "avg = (a + b + c) / 3\n",
    "print(\"avg =\", avg)\n",
    "\n",
    "if avg > a and avg > b and avg > c:\n",
    "    print(f\"{avg} is higher than {a}, {b}, {c}\")\n",
    "else:\n",
    "    if avg > a and avg > b:\n",
    "        print(f\"{avg} is higher than {a}, {b}\")\n",
    "    elif avg > a and avg > c:\n",
    "        print(f\"{avg} is higher than {a}, {c}\")\n",
    "    elif avg > b and avg > c:\n",
    "        print(f\"{avg} is higher than {b}, {c}\")\n",
    "    else:\n",
    "        if avg > a:\n",
    "            print(f\"{avg} is higher than {a}\")\n",
    "        elif avg > b:\n",
    "            print(f\"{avg} is higher than {b}\")\n",
    "        elif avg > c:\n",
    "            print(f\"{avg} is higher than {c}\")\n"
   ]
  },
  {
   "cell_type": "code",
   "execution_count": null,
   "id": "7c37ac51",
   "metadata": {},
   "outputs": [],
   "source": [
    "# 4\n",
    "\n",
    "while True:\n",
    "    usr_input = int(input(\"Enter num: \"))\n",
    "    \n",
    "    if usr_input >= 0:\n",
    "        print(\"Good Going\")\n",
    "        continue\n",
    "    else:\n",
    "        print(\"It's Over\")\n",
    "        break\n"
   ]
  },
  {
   "cell_type": "code",
   "execution_count": null,
   "id": "ca48ac0b",
   "metadata": {},
   "outputs": [],
   "source": [
    "# 5\n",
    "\n",
    "for i in range(2000, 3200):\n",
    "    if i % 7 == 0 and i %5 != 0:\n",
    "        print(i, end= \" \")\n"
   ]
  },
  {
   "cell_type": "code",
   "execution_count": 15,
   "id": "f8ff50a0",
   "metadata": {},
   "outputs": [],
   "source": [
    "# 6\n",
    "\n",
    "# for 6.1\n",
    "# it will show following error\n",
    "# TypeError: 'int' object is not iterable\n",
    "\n",
    "# ----------------------------\n",
    "# for 6.2\n",
    "#0\n",
    "#error\n",
    "#1\n",
    "#error\n",
    "#2\n",
    "# ----------------------------\n",
    "# for 6.3\n",
    "#0\n",
    "#1\n",
    "#2\n",
    "#3\n",
    "#4\n",
    "#Traceback (most recent call last):\n",
    "#File \"<string>\", line 8, in <module>\n",
    "#NameError: name 'Break' is not defined\n"
   ]
  },
  {
   "cell_type": "code",
   "execution_count": 17,
   "id": "c1b189ee",
   "metadata": {},
   "outputs": [
    {
     "name": "stdout",
     "output_type": "stream",
     "text": [
      "0 1 2 4 5 "
     ]
    }
   ],
   "source": [
    "# 7\n",
    "\n",
    "for i in range(0,7):\n",
    "    if i == 3 or i == 6:\n",
    "        continue\n",
    "    else:\n",
    "        print(i, end=\" \")\n"
   ]
  },
  {
   "cell_type": "code",
   "execution_count": 19,
   "id": "1fc11036",
   "metadata": {},
   "outputs": [],
   "source": [
    "# 8\n",
    "\n",
    "def word_count(str):\n",
    "    letter_count = 0\n",
    "    digit_count = 0\n",
    "    \n",
    "    for i in str:\n",
    "        if '0' <= i <= '9':\n",
    "            digit_count += 1\n",
    "        else:\n",
    "            letter_count += 1\n",
    "    \n",
    "    print(\"Letter count =\", letter_count)\n",
    "    print(\"Digit count =\", digit_count)\n",
    "\n"
   ]
  },
  {
   "cell_type": "code",
   "execution_count": 27,
   "id": "bdb65245",
   "metadata": {},
   "outputs": [],
   "source": [
    "# 9\n",
    "\n",
    "real_number = 25  # assgining to random integer\n",
    "\n",
    "while True:\n",
    "    number = int(input(\"guess the lucky number: \"))\n",
    "    \n",
    "    if number == real_number:\n",
    "        break\n",
    "    \n",
    "    answer = input(\"want to play again? : \")\n",
    "    if answer == 'no' or answer == 'No':\n",
    "        break\n"
   ]
  },
  {
   "cell_type": "code",
   "execution_count": 4,
   "id": "93376292",
   "metadata": {},
   "outputs": [],
   "source": [
    "# 10\n",
    "\n",
    "right_guess = 45\n",
    "counter = 1\n",
    "while counter <= 5:\n",
    "    number = int(input(f\"enter {counter} number: \"))\n",
    "    if number == right_guess:\n",
    "        print(\"Good guess\")\n",
    "    else:\n",
    "        print(\"Try again!\")\n",
    "    \n",
    "    counter += 1\n",
    "\n",
    "print(\"Game over!\")\n",
    "        "
   ]
  },
  {
   "cell_type": "code",
   "execution_count": 9,
   "id": "cfe68fde",
   "metadata": {},
   "outputs": [],
   "source": [
    "# 11\n",
    "\n",
    "right_guess = 45\n",
    "counter = 1\n",
    "flag = False\n",
    "while counter <= 5:\n",
    "    number = int(input(f\"enter {counter} number: \"))\n",
    "    if number == right_guess:\n",
    "        print(\"Good guess\")\n",
    "        flag = True\n",
    "        break\n",
    "    else:\n",
    "        print(\"Try again!\")\n",
    "    \n",
    "    counter += 1\n",
    "\n",
    "if counter >= 5:\n",
    "    print(\"Game over!\")\n",
    "    if flag == False:\n",
    "        print(\"Sorry but that was not very successful\")\n",
    "  "
   ]
  },
  {
   "cell_type": "code",
   "execution_count": null,
   "id": "da07363b",
   "metadata": {},
   "outputs": [],
   "source": [
    "# END OF ASSIGNMENT #"
   ]
  }
 ],
 "metadata": {
  "kernelspec": {
   "display_name": "Python 3 (ipykernel)",
   "language": "python",
   "name": "python3"
  },
  "language_info": {
   "codemirror_mode": {
    "name": "ipython",
    "version": 3
   },
   "file_extension": ".py",
   "mimetype": "text/x-python",
   "name": "python",
   "nbconvert_exporter": "python",
   "pygments_lexer": "ipython3",
   "version": "3.10.4"
  }
 },
 "nbformat": 4,
 "nbformat_minor": 5
}
