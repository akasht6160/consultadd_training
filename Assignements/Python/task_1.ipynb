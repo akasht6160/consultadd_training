{
 "cells": [
  {
   "cell_type": "code",
   "execution_count": null,
   "id": "6a778608",
   "metadata": {},
   "outputs": [],
   "source": [
    "# 1\n",
    "a = 1, b = 2.91, c = 'string'"
   ]
  },
  {
   "cell_type": "code",
   "execution_count": 5,
   "id": "9528edd3",
   "metadata": {},
   "outputs": [
    {
     "name": "stdout",
     "output_type": "stream",
     "text": [
      "x - (3+2j), y - 5\n",
      "x - 5, y - (3+2j)\n"
     ]
    }
   ],
   "source": [
    "# 2\n",
    "x = complex(3, 2)\n",
    "y = 5\n",
    "print(f\"x - {x}, y - {y}\")\n",
    "\n",
    "temp = x\n",
    "x = y\n",
    "y = temp\n",
    "\n",
    "print(f\"x - {x}, y - {y}\")\n"
   ]
  },
  {
   "cell_type": "code",
   "execution_count": 10,
   "id": "f995f8c5",
   "metadata": {},
   "outputs": [
    {
     "name": "stdout",
     "output_type": "stream",
     "text": [
      "a - 5, b - 3\n",
      "a - 3, b - 5\n",
      "c - 12, d - 8\n",
      "c - 8, d - 12\n"
     ]
    }
   ],
   "source": [
    "# 3\n",
    "\n",
    "a = 5\n",
    "b = 3\n",
    "# with third variable\n",
    "print(f\"a - {a}, b - {b}\")\n",
    "temp = a\n",
    "a = b\n",
    "b = temp\n",
    "print(f\"a - {a}, b - {b}\")\n",
    "\n",
    "# without third variable\n",
    "c = 12\n",
    "d = 8\n",
    "print(f\"c - {c}, d - {d}\")\n",
    "c = c + d\n",
    "d = c - d\n",
    "c = c - d\n",
    "print(f\"c - {c}, d - {d}\")"
   ]
  },
  {
   "cell_type": "code",
   "execution_count": 13,
   "id": "deca76c8",
   "metadata": {},
   "outputs": [],
   "source": [
    "# 4\n",
    "var_1 = raw_input(\"Enter data: \")\n",
    "print var_1\n",
    "\n",
    "var_2 = input(\"Enter data: \")\n",
    "print(var_2)"
   ]
  },
  {
   "cell_type": "code",
   "execution_count": 16,
   "id": "5bd8fcf6",
   "metadata": {},
   "outputs": [
    {
     "name": "stdout",
     "output_type": "stream",
     "text": [
      "Enter 1st number from 1-10: 12\n",
      "Enter 2nd number from 1-10: 10\n",
      "output 52\n"
     ]
    }
   ],
   "source": [
    "# 5\n",
    "num_1 = int(input(\"Enter 1st number from 1-10: \"))\n",
    "num_2 = int(input(\"Enter 2nd number from 1-10: \"))\n",
    "z = num_1 + num_2\n",
    "output = z + 30\n",
    "print(\"output\", output)"
   ]
  },
  {
   "cell_type": "code",
   "execution_count": 18,
   "id": "6d3d7fdf",
   "metadata": {},
   "outputs": [
    {
     "name": "stdout",
     "output_type": "stream",
     "text": [
      "The data type of input value is:  <class 'int'>\n",
      "The data type of input value is:  <class 'str'>\n"
     ]
    }
   ],
   "source": [
    "# 6\n",
    "var_1 = 5\n",
    "var_2 = 'X'\n",
    "\n",
    "print(\"The data type of input value is: \", type(var_1))\n",
    "print(\"The data type of input value is: \", type(var_2))"
   ]
  },
  {
   "cell_type": "code",
   "execution_count": null,
   "id": "2eac1f9b",
   "metadata": {},
   "outputs": [],
   "source": [
    "# 7\n",
    "\n",
    "GivenValue = 33            #Upper CamelCase\n",
    "outputValue = \"Hello All\"  #lower CamelCase\n",
    "full_name = \"John Snow\"    # snake case\n",
    "ASSIGNED = True            # UPPERCASE\n"
   ]
  },
  {
   "cell_type": "code",
   "execution_count": null,
   "id": "334c428c",
   "metadata": {},
   "outputs": [],
   "source": [
    "# 8\n",
    "# Yes, it will change the value. because python is dynamically & loosely\n",
    "# typed language not statically typed language like C++ or Java\n",
    "# "
   ]
  }
 ],
 "metadata": {
  "kernelspec": {
   "display_name": "Python 3 (ipykernel)",
   "language": "python",
   "name": "python3"
  },
  "language_info": {
   "codemirror_mode": {
    "name": "ipython",
    "version": 3
   },
   "file_extension": ".py",
   "mimetype": "text/x-python",
   "name": "python",
   "nbconvert_exporter": "python",
   "pygments_lexer": "ipython3",
   "version": "3.10.4"
  }
 },
 "nbformat": 4,
 "nbformat_minor": 5
}
